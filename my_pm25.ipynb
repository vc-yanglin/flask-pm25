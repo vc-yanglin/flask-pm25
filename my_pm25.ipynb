{
 "cells": [
  {
   "cell_type": "code",
   "execution_count": 1,
   "id": "d051df8a",
   "metadata": {},
   "outputs": [],
   "source": [
    "import pandas as pd\n",
    "import pymysql"
   ]
  },
  {
   "cell_type": "code",
   "execution_count": 26,
   "id": "f9616f09",
   "metadata": {},
   "outputs": [],
   "source": [
    "api_url=\"https://data.moenv.gov.tw/api/v2/aqx_p_02?api_key=540e2ca4-41e1-4186-8497-fdd67024ac44&limit=1000&sort=datacreationdate%20desc&format=CSV\""
   ]
  },
  {
   "cell_type": "code",
   "execution_count": 27,
   "id": "463f923d",
   "metadata": {},
   "outputs": [
    {
     "data": {
      "text/html": [
       "<div>\n",
       "<style scoped>\n",
       "    .dataframe tbody tr th:only-of-type {\n",
       "        vertical-align: middle;\n",
       "    }\n",
       "\n",
       "    .dataframe tbody tr th {\n",
       "        vertical-align: top;\n",
       "    }\n",
       "\n",
       "    .dataframe thead th {\n",
       "        text-align: right;\n",
       "    }\n",
       "</style>\n",
       "<table border=\"1\" class=\"dataframe\">\n",
       "  <thead>\n",
       "    <tr style=\"text-align: right;\">\n",
       "      <th></th>\n",
       "      <th>site</th>\n",
       "      <th>county</th>\n",
       "      <th>pm25</th>\n",
       "      <th>datacreationdate</th>\n",
       "      <th>itemunit</th>\n",
       "    </tr>\n",
       "  </thead>\n",
       "  <tbody>\n",
       "    <tr>\n",
       "      <th>0</th>\n",
       "      <td>員林</td>\n",
       "      <td>彰化縣</td>\n",
       "      <td>19.0</td>\n",
       "      <td>2025-04-23 19:00</td>\n",
       "      <td>μg/m3</td>\n",
       "    </tr>\n",
       "    <tr>\n",
       "      <th>1</th>\n",
       "      <td>大城</td>\n",
       "      <td>彰化縣</td>\n",
       "      <td>8.0</td>\n",
       "      <td>2025-04-23 19:00</td>\n",
       "      <td>μg/m3</td>\n",
       "    </tr>\n",
       "    <tr>\n",
       "      <th>2</th>\n",
       "      <td>富貴角</td>\n",
       "      <td>新北市</td>\n",
       "      <td>9.0</td>\n",
       "      <td>2025-04-23 19:00</td>\n",
       "      <td>μg/m3</td>\n",
       "    </tr>\n",
       "    <tr>\n",
       "      <th>3</th>\n",
       "      <td>麥寮</td>\n",
       "      <td>雲林縣</td>\n",
       "      <td>12.0</td>\n",
       "      <td>2025-04-23 19:00</td>\n",
       "      <td>μg/m3</td>\n",
       "    </tr>\n",
       "    <tr>\n",
       "      <th>4</th>\n",
       "      <td>關山</td>\n",
       "      <td>臺東縣</td>\n",
       "      <td>15.0</td>\n",
       "      <td>2025-04-23 19:00</td>\n",
       "      <td>μg/m3</td>\n",
       "    </tr>\n",
       "    <tr>\n",
       "      <th>...</th>\n",
       "      <td>...</td>\n",
       "      <td>...</td>\n",
       "      <td>...</td>\n",
       "      <td>...</td>\n",
       "      <td>...</td>\n",
       "    </tr>\n",
       "    <tr>\n",
       "      <th>995</th>\n",
       "      <td>新竹</td>\n",
       "      <td>新竹市</td>\n",
       "      <td>20.0</td>\n",
       "      <td>2025-04-23 07:00</td>\n",
       "      <td>μg/m3</td>\n",
       "    </tr>\n",
       "    <tr>\n",
       "      <th>996</th>\n",
       "      <td>竹東</td>\n",
       "      <td>新竹縣</td>\n",
       "      <td>9.0</td>\n",
       "      <td>2025-04-23 07:00</td>\n",
       "      <td>μg/m3</td>\n",
       "    </tr>\n",
       "    <tr>\n",
       "      <th>997</th>\n",
       "      <td>湖口</td>\n",
       "      <td>新竹縣</td>\n",
       "      <td>18.0</td>\n",
       "      <td>2025-04-23 07:00</td>\n",
       "      <td>μg/m3</td>\n",
       "    </tr>\n",
       "    <tr>\n",
       "      <th>998</th>\n",
       "      <td>龍潭</td>\n",
       "      <td>桃園市</td>\n",
       "      <td>13.0</td>\n",
       "      <td>2025-04-23 07:00</td>\n",
       "      <td>μg/m3</td>\n",
       "    </tr>\n",
       "    <tr>\n",
       "      <th>999</th>\n",
       "      <td>平鎮</td>\n",
       "      <td>桃園市</td>\n",
       "      <td>13.0</td>\n",
       "      <td>2025-04-23 07:00</td>\n",
       "      <td>μg/m3</td>\n",
       "    </tr>\n",
       "  </tbody>\n",
       "</table>\n",
       "<p>1000 rows × 5 columns</p>\n",
       "</div>"
      ],
      "text/plain": [
       "    site county  pm25  datacreationdate itemunit\n",
       "0     員林    彰化縣  19.0  2025-04-23 19:00    μg/m3\n",
       "1     大城    彰化縣   8.0  2025-04-23 19:00    μg/m3\n",
       "2    富貴角    新北市   9.0  2025-04-23 19:00    μg/m3\n",
       "3     麥寮    雲林縣  12.0  2025-04-23 19:00    μg/m3\n",
       "4     關山    臺東縣  15.0  2025-04-23 19:00    μg/m3\n",
       "..   ...    ...   ...               ...      ...\n",
       "995   新竹    新竹市  20.0  2025-04-23 07:00    μg/m3\n",
       "996   竹東    新竹縣   9.0  2025-04-23 07:00    μg/m3\n",
       "997   湖口    新竹縣  18.0  2025-04-23 07:00    μg/m3\n",
       "998   龍潭    桃園市  13.0  2025-04-23 07:00    μg/m3\n",
       "999   平鎮    桃園市  13.0  2025-04-23 07:00    μg/m3\n",
       "\n",
       "[1000 rows x 5 columns]"
      ]
     },
     "execution_count": 27,
     "metadata": {},
     "output_type": "execute_result"
    }
   ],
   "source": [
    "df=pd.read_csv(api_url)\n",
    "df"
   ]
  },
  {
   "cell_type": "code",
   "execution_count": 4,
   "id": "c2485ae3",
   "metadata": {},
   "outputs": [
    {
     "name": "stdout",
     "output_type": "stream",
     "text": [
      "<class 'pandas.core.frame.DataFrame'>\n",
      "RangeIndex: 1000 entries, 0 to 999\n",
      "Data columns (total 5 columns):\n",
      " #   Column            Non-Null Count  Dtype  \n",
      "---  ------            --------------  -----  \n",
      " 0   site              1000 non-null   object \n",
      " 1   county            1000 non-null   object \n",
      " 2   pm25              970 non-null    float64\n",
      " 3   datacreationdate  1000 non-null   object \n",
      " 4   itemunit          1000 non-null   object \n",
      "dtypes: float64(1), object(4)\n",
      "memory usage: 39.2+ KB\n"
     ]
    }
   ],
   "source": [
    "df.info()"
   ]
  },
  {
   "cell_type": "code",
   "execution_count": 5,
   "id": "60d4df6a",
   "metadata": {},
   "outputs": [],
   "source": [
    "df[\"datacreationdate\"]=pd.to_datetime(df[\"datacreationdate\"])"
   ]
  },
  {
   "cell_type": "code",
   "execution_count": 6,
   "id": "f5e028d9",
   "metadata": {},
   "outputs": [
    {
     "name": "stdout",
     "output_type": "stream",
     "text": [
      "<class 'pandas.core.frame.DataFrame'>\n",
      "RangeIndex: 1000 entries, 0 to 999\n",
      "Data columns (total 5 columns):\n",
      " #   Column            Non-Null Count  Dtype         \n",
      "---  ------            --------------  -----         \n",
      " 0   site              1000 non-null   object        \n",
      " 1   county            1000 non-null   object        \n",
      " 2   pm25              970 non-null    float64       \n",
      " 3   datacreationdate  1000 non-null   datetime64[ns]\n",
      " 4   itemunit          1000 non-null   object        \n",
      "dtypes: datetime64[ns](1), float64(1), object(3)\n",
      "memory usage: 39.2+ KB\n"
     ]
    }
   ],
   "source": [
    "df.info()"
   ]
  },
  {
   "cell_type": "code",
   "execution_count": 28,
   "id": "950a7f50",
   "metadata": {},
   "outputs": [],
   "source": [
    "df1=df.dropna()"
   ]
  },
  {
   "cell_type": "code",
   "execution_count": 8,
   "id": "4bcb3766",
   "metadata": {},
   "outputs": [
    {
     "data": {
      "text/html": [
       "<div>\n",
       "<style scoped>\n",
       "    .dataframe tbody tr th:only-of-type {\n",
       "        vertical-align: middle;\n",
       "    }\n",
       "\n",
       "    .dataframe tbody tr th {\n",
       "        vertical-align: top;\n",
       "    }\n",
       "\n",
       "    .dataframe thead th {\n",
       "        text-align: right;\n",
       "    }\n",
       "</style>\n",
       "<table border=\"1\" class=\"dataframe\">\n",
       "  <thead>\n",
       "    <tr style=\"text-align: right;\">\n",
       "      <th></th>\n",
       "      <th>site</th>\n",
       "      <th>county</th>\n",
       "      <th>pm25</th>\n",
       "      <th>datacreationdate</th>\n",
       "      <th>itemunit</th>\n",
       "    </tr>\n",
       "  </thead>\n",
       "  <tbody>\n",
       "    <tr>\n",
       "      <th>0</th>\n",
       "      <td>員林</td>\n",
       "      <td>彰化縣</td>\n",
       "      <td>19.0</td>\n",
       "      <td>2025-04-23 19:00:00</td>\n",
       "      <td>μg/m3</td>\n",
       "    </tr>\n",
       "    <tr>\n",
       "      <th>1</th>\n",
       "      <td>大城</td>\n",
       "      <td>彰化縣</td>\n",
       "      <td>8.0</td>\n",
       "      <td>2025-04-23 19:00:00</td>\n",
       "      <td>μg/m3</td>\n",
       "    </tr>\n",
       "    <tr>\n",
       "      <th>2</th>\n",
       "      <td>富貴角</td>\n",
       "      <td>新北市</td>\n",
       "      <td>9.0</td>\n",
       "      <td>2025-04-23 19:00:00</td>\n",
       "      <td>μg/m3</td>\n",
       "    </tr>\n",
       "    <tr>\n",
       "      <th>3</th>\n",
       "      <td>麥寮</td>\n",
       "      <td>雲林縣</td>\n",
       "      <td>12.0</td>\n",
       "      <td>2025-04-23 19:00:00</td>\n",
       "      <td>μg/m3</td>\n",
       "    </tr>\n",
       "    <tr>\n",
       "      <th>4</th>\n",
       "      <td>關山</td>\n",
       "      <td>臺東縣</td>\n",
       "      <td>15.0</td>\n",
       "      <td>2025-04-23 19:00:00</td>\n",
       "      <td>μg/m3</td>\n",
       "    </tr>\n",
       "    <tr>\n",
       "      <th>...</th>\n",
       "      <td>...</td>\n",
       "      <td>...</td>\n",
       "      <td>...</td>\n",
       "      <td>...</td>\n",
       "      <td>...</td>\n",
       "    </tr>\n",
       "    <tr>\n",
       "      <th>995</th>\n",
       "      <td>新竹</td>\n",
       "      <td>新竹市</td>\n",
       "      <td>20.0</td>\n",
       "      <td>2025-04-23 07:00:00</td>\n",
       "      <td>μg/m3</td>\n",
       "    </tr>\n",
       "    <tr>\n",
       "      <th>996</th>\n",
       "      <td>竹東</td>\n",
       "      <td>新竹縣</td>\n",
       "      <td>9.0</td>\n",
       "      <td>2025-04-23 07:00:00</td>\n",
       "      <td>μg/m3</td>\n",
       "    </tr>\n",
       "    <tr>\n",
       "      <th>997</th>\n",
       "      <td>湖口</td>\n",
       "      <td>新竹縣</td>\n",
       "      <td>18.0</td>\n",
       "      <td>2025-04-23 07:00:00</td>\n",
       "      <td>μg/m3</td>\n",
       "    </tr>\n",
       "    <tr>\n",
       "      <th>998</th>\n",
       "      <td>龍潭</td>\n",
       "      <td>桃園市</td>\n",
       "      <td>13.0</td>\n",
       "      <td>2025-04-23 07:00:00</td>\n",
       "      <td>μg/m3</td>\n",
       "    </tr>\n",
       "    <tr>\n",
       "      <th>999</th>\n",
       "      <td>平鎮</td>\n",
       "      <td>桃園市</td>\n",
       "      <td>13.0</td>\n",
       "      <td>2025-04-23 07:00:00</td>\n",
       "      <td>μg/m3</td>\n",
       "    </tr>\n",
       "  </tbody>\n",
       "</table>\n",
       "<p>970 rows × 5 columns</p>\n",
       "</div>"
      ],
      "text/plain": [
       "    site county  pm25    datacreationdate itemunit\n",
       "0     員林    彰化縣  19.0 2025-04-23 19:00:00    μg/m3\n",
       "1     大城    彰化縣   8.0 2025-04-23 19:00:00    μg/m3\n",
       "2    富貴角    新北市   9.0 2025-04-23 19:00:00    μg/m3\n",
       "3     麥寮    雲林縣  12.0 2025-04-23 19:00:00    μg/m3\n",
       "4     關山    臺東縣  15.0 2025-04-23 19:00:00    μg/m3\n",
       "..   ...    ...   ...                 ...      ...\n",
       "995   新竹    新竹市  20.0 2025-04-23 07:00:00    μg/m3\n",
       "996   竹東    新竹縣   9.0 2025-04-23 07:00:00    μg/m3\n",
       "997   湖口    新竹縣  18.0 2025-04-23 07:00:00    μg/m3\n",
       "998   龍潭    桃園市  13.0 2025-04-23 07:00:00    μg/m3\n",
       "999   平鎮    桃園市  13.0 2025-04-23 07:00:00    μg/m3\n",
       "\n",
       "[970 rows x 5 columns]"
      ]
     },
     "execution_count": 8,
     "metadata": {},
     "output_type": "execute_result"
    }
   ],
   "source": [
    "df1=df.drop(df[df[\"pm25\"].isna()].index)\n",
    "df1"
   ]
  },
  {
   "cell_type": "code",
   "execution_count": 9,
   "id": "46f28b96",
   "metadata": {},
   "outputs": [],
   "source": [
    "latest_time=df1[\"datacreationdate\"].max()"
   ]
  },
  {
   "cell_type": "code",
   "execution_count": 10,
   "id": "98dd5482",
   "metadata": {},
   "outputs": [
    {
     "data": {
      "text/html": [
       "<div>\n",
       "<style scoped>\n",
       "    .dataframe tbody tr th:only-of-type {\n",
       "        vertical-align: middle;\n",
       "    }\n",
       "\n",
       "    .dataframe tbody tr th {\n",
       "        vertical-align: top;\n",
       "    }\n",
       "\n",
       "    .dataframe thead th {\n",
       "        text-align: right;\n",
       "    }\n",
       "</style>\n",
       "<table border=\"1\" class=\"dataframe\">\n",
       "  <thead>\n",
       "    <tr style=\"text-align: right;\">\n",
       "      <th></th>\n",
       "      <th>site</th>\n",
       "      <th>county</th>\n",
       "      <th>pm25</th>\n",
       "      <th>datacreationdate</th>\n",
       "      <th>itemunit</th>\n",
       "    </tr>\n",
       "  </thead>\n",
       "  <tbody>\n",
       "    <tr>\n",
       "      <th>0</th>\n",
       "      <td>員林</td>\n",
       "      <td>彰化縣</td>\n",
       "      <td>19.0</td>\n",
       "      <td>2025-04-23 19:00:00</td>\n",
       "      <td>μg/m3</td>\n",
       "    </tr>\n",
       "    <tr>\n",
       "      <th>1</th>\n",
       "      <td>大城</td>\n",
       "      <td>彰化縣</td>\n",
       "      <td>8.0</td>\n",
       "      <td>2025-04-23 19:00:00</td>\n",
       "      <td>μg/m3</td>\n",
       "    </tr>\n",
       "    <tr>\n",
       "      <th>2</th>\n",
       "      <td>富貴角</td>\n",
       "      <td>新北市</td>\n",
       "      <td>9.0</td>\n",
       "      <td>2025-04-23 19:00:00</td>\n",
       "      <td>μg/m3</td>\n",
       "    </tr>\n",
       "    <tr>\n",
       "      <th>3</th>\n",
       "      <td>麥寮</td>\n",
       "      <td>雲林縣</td>\n",
       "      <td>12.0</td>\n",
       "      <td>2025-04-23 19:00:00</td>\n",
       "      <td>μg/m3</td>\n",
       "    </tr>\n",
       "    <tr>\n",
       "      <th>4</th>\n",
       "      <td>關山</td>\n",
       "      <td>臺東縣</td>\n",
       "      <td>15.0</td>\n",
       "      <td>2025-04-23 19:00:00</td>\n",
       "      <td>μg/m3</td>\n",
       "    </tr>\n",
       "    <tr>\n",
       "      <th>...</th>\n",
       "      <td>...</td>\n",
       "      <td>...</td>\n",
       "      <td>...</td>\n",
       "      <td>...</td>\n",
       "      <td>...</td>\n",
       "    </tr>\n",
       "    <tr>\n",
       "      <th>74</th>\n",
       "      <td>土城</td>\n",
       "      <td>新北市</td>\n",
       "      <td>24.0</td>\n",
       "      <td>2025-04-23 19:00:00</td>\n",
       "      <td>μg/m3</td>\n",
       "    </tr>\n",
       "    <tr>\n",
       "      <th>75</th>\n",
       "      <td>新店</td>\n",
       "      <td>新北市</td>\n",
       "      <td>24.0</td>\n",
       "      <td>2025-04-23 19:00:00</td>\n",
       "      <td>μg/m3</td>\n",
       "    </tr>\n",
       "    <tr>\n",
       "      <th>76</th>\n",
       "      <td>萬里</td>\n",
       "      <td>新北市</td>\n",
       "      <td>11.0</td>\n",
       "      <td>2025-04-23 19:00:00</td>\n",
       "      <td>μg/m3</td>\n",
       "    </tr>\n",
       "    <tr>\n",
       "      <th>77</th>\n",
       "      <td>汐止</td>\n",
       "      <td>新北市</td>\n",
       "      <td>13.0</td>\n",
       "      <td>2025-04-23 19:00:00</td>\n",
       "      <td>μg/m3</td>\n",
       "    </tr>\n",
       "    <tr>\n",
       "      <th>78</th>\n",
       "      <td>基隆</td>\n",
       "      <td>基隆市</td>\n",
       "      <td>8.0</td>\n",
       "      <td>2025-04-23 19:00:00</td>\n",
       "      <td>μg/m3</td>\n",
       "    </tr>\n",
       "  </tbody>\n",
       "</table>\n",
       "<p>78 rows × 5 columns</p>\n",
       "</div>"
      ],
      "text/plain": [
       "   site county  pm25    datacreationdate itemunit\n",
       "0    員林    彰化縣  19.0 2025-04-23 19:00:00    μg/m3\n",
       "1    大城    彰化縣   8.0 2025-04-23 19:00:00    μg/m3\n",
       "2   富貴角    新北市   9.0 2025-04-23 19:00:00    μg/m3\n",
       "3    麥寮    雲林縣  12.0 2025-04-23 19:00:00    μg/m3\n",
       "4    關山    臺東縣  15.0 2025-04-23 19:00:00    μg/m3\n",
       "..  ...    ...   ...                 ...      ...\n",
       "74   土城    新北市  24.0 2025-04-23 19:00:00    μg/m3\n",
       "75   新店    新北市  24.0 2025-04-23 19:00:00    μg/m3\n",
       "76   萬里    新北市  11.0 2025-04-23 19:00:00    μg/m3\n",
       "77   汐止    新北市  13.0 2025-04-23 19:00:00    μg/m3\n",
       "78   基隆    基隆市   8.0 2025-04-23 19:00:00    μg/m3\n",
       "\n",
       "[78 rows x 5 columns]"
      ]
     },
     "execution_count": 10,
     "metadata": {},
     "output_type": "execute_result"
    }
   ],
   "source": [
    "df1[df1[\"datacreationdate\"]==latest_time]"
   ]
  },
  {
   "cell_type": "code",
   "execution_count": 11,
   "id": "24596f74",
   "metadata": {},
   "outputs": [
    {
     "data": {
      "text/plain": [
       "16     4.0\n",
       "63    20.0\n",
       "64    20.0\n",
       "65    14.0\n",
       "66    11.0\n",
       "67    11.0\n",
       "68    10.0\n",
       "Name: pm25, dtype: float64"
      ]
     },
     "execution_count": 11,
     "metadata": {},
     "output_type": "execute_result"
    }
   ],
   "source": [
    "df2=df1[df1[\"county\"]==\"臺北市\"]\n",
    "latest_time=df2[\"datacreationdate\"].max()\n",
    "df3=df2[df2[\"datacreationdate\"]==latest_time]\n",
    "df3[\"pm25\"]"
   ]
  },
  {
   "cell_type": "code",
   "execution_count": 12,
   "id": "170d0f70",
   "metadata": {},
   "outputs": [
    {
     "data": {
      "text/plain": [
       "array(['彰化縣', '新北市', '雲林縣', '臺東縣', '澎湖縣', '金門縣', '連江縣', '南投縣', '高雄市',\n",
       "       '桃園市', '宜蘭縣', '臺北市', '花蓮縣', '屏東縣', '臺南市', '嘉義市', '嘉義縣', '臺中市',\n",
       "       '苗栗縣', '新竹市', '新竹縣', '基隆市'], dtype=object)"
      ]
     },
     "execution_count": 12,
     "metadata": {},
     "output_type": "execute_result"
    }
   ],
   "source": [
    "df1[\"county\"].unique()"
   ]
  },
  {
   "cell_type": "code",
   "execution_count": 13,
   "id": "c8b58643",
   "metadata": {},
   "outputs": [
    {
     "data": {
      "text/plain": [
       "site\n",
       "中山    11.166667\n",
       "古亭     9.500000\n",
       "士林     7.916667\n",
       "大同    15.250000\n",
       "松山    17.333333\n",
       "萬華     8.333333\n",
       "陽明     3.230769\n",
       "Name: pm25, dtype: float64"
      ]
     },
     "execution_count": 13,
     "metadata": {},
     "output_type": "execute_result"
    }
   ],
   "source": [
    "df1.groupby(\"county\").get_group(\"臺北市\").groupby(\"site\")[\"pm25\"].mean()"
   ]
  },
  {
   "cell_type": "code",
   "execution_count": 29,
   "id": "49c44121",
   "metadata": {},
   "outputs": [
    {
     "data": {
      "text/html": [
       "<div>\n",
       "<style scoped>\n",
       "    .dataframe tbody tr th:only-of-type {\n",
       "        vertical-align: middle;\n",
       "    }\n",
       "\n",
       "    .dataframe tbody tr th {\n",
       "        vertical-align: top;\n",
       "    }\n",
       "\n",
       "    .dataframe thead th {\n",
       "        text-align: right;\n",
       "    }\n",
       "</style>\n",
       "<table border=\"1\" class=\"dataframe\">\n",
       "  <thead>\n",
       "    <tr style=\"text-align: right;\">\n",
       "      <th></th>\n",
       "      <th>site</th>\n",
       "      <th>county</th>\n",
       "      <th>pm25</th>\n",
       "      <th>datacreationdate</th>\n",
       "      <th>itemunit</th>\n",
       "    </tr>\n",
       "  </thead>\n",
       "  <tbody>\n",
       "    <tr>\n",
       "      <th>16</th>\n",
       "      <td>陽明</td>\n",
       "      <td>臺北市</td>\n",
       "      <td>4.0</td>\n",
       "      <td>2025-04-23 19:00</td>\n",
       "      <td>μg/m3</td>\n",
       "    </tr>\n",
       "    <tr>\n",
       "      <th>63</th>\n",
       "      <td>大同</td>\n",
       "      <td>臺北市</td>\n",
       "      <td>20.0</td>\n",
       "      <td>2025-04-23 19:00</td>\n",
       "      <td>μg/m3</td>\n",
       "    </tr>\n",
       "    <tr>\n",
       "      <th>64</th>\n",
       "      <td>松山</td>\n",
       "      <td>臺北市</td>\n",
       "      <td>20.0</td>\n",
       "      <td>2025-04-23 19:00</td>\n",
       "      <td>μg/m3</td>\n",
       "    </tr>\n",
       "    <tr>\n",
       "      <th>65</th>\n",
       "      <td>古亭</td>\n",
       "      <td>臺北市</td>\n",
       "      <td>14.0</td>\n",
       "      <td>2025-04-23 19:00</td>\n",
       "      <td>μg/m3</td>\n",
       "    </tr>\n",
       "    <tr>\n",
       "      <th>66</th>\n",
       "      <td>萬華</td>\n",
       "      <td>臺北市</td>\n",
       "      <td>11.0</td>\n",
       "      <td>2025-04-23 19:00</td>\n",
       "      <td>μg/m3</td>\n",
       "    </tr>\n",
       "    <tr>\n",
       "      <th>...</th>\n",
       "      <td>...</td>\n",
       "      <td>...</td>\n",
       "      <td>...</td>\n",
       "      <td>...</td>\n",
       "      <td>...</td>\n",
       "    </tr>\n",
       "    <tr>\n",
       "      <th>927</th>\n",
       "      <td>古亭</td>\n",
       "      <td>臺北市</td>\n",
       "      <td>10.0</td>\n",
       "      <td>2025-04-23 08:00</td>\n",
       "      <td>μg/m3</td>\n",
       "    </tr>\n",
       "    <tr>\n",
       "      <th>928</th>\n",
       "      <td>萬華</td>\n",
       "      <td>臺北市</td>\n",
       "      <td>8.0</td>\n",
       "      <td>2025-04-23 08:00</td>\n",
       "      <td>μg/m3</td>\n",
       "    </tr>\n",
       "    <tr>\n",
       "      <th>929</th>\n",
       "      <td>中山</td>\n",
       "      <td>臺北市</td>\n",
       "      <td>13.0</td>\n",
       "      <td>2025-04-23 08:00</td>\n",
       "      <td>μg/m3</td>\n",
       "    </tr>\n",
       "    <tr>\n",
       "      <th>930</th>\n",
       "      <td>士林</td>\n",
       "      <td>臺北市</td>\n",
       "      <td>4.0</td>\n",
       "      <td>2025-04-23 08:00</td>\n",
       "      <td>μg/m3</td>\n",
       "    </tr>\n",
       "    <tr>\n",
       "      <th>956</th>\n",
       "      <td>陽明</td>\n",
       "      <td>臺北市</td>\n",
       "      <td>6.0</td>\n",
       "      <td>2025-04-23 07:00</td>\n",
       "      <td>μg/m3</td>\n",
       "    </tr>\n",
       "  </tbody>\n",
       "</table>\n",
       "<p>85 rows × 5 columns</p>\n",
       "</div>"
      ],
      "text/plain": [
       "    site county  pm25  datacreationdate itemunit\n",
       "16    陽明    臺北市   4.0  2025-04-23 19:00    μg/m3\n",
       "63    大同    臺北市  20.0  2025-04-23 19:00    μg/m3\n",
       "64    松山    臺北市  20.0  2025-04-23 19:00    μg/m3\n",
       "65    古亭    臺北市  14.0  2025-04-23 19:00    μg/m3\n",
       "66    萬華    臺北市  11.0  2025-04-23 19:00    μg/m3\n",
       "..   ...    ...   ...               ...      ...\n",
       "927   古亭    臺北市  10.0  2025-04-23 08:00    μg/m3\n",
       "928   萬華    臺北市   8.0  2025-04-23 08:00    μg/m3\n",
       "929   中山    臺北市  13.0  2025-04-23 08:00    μg/m3\n",
       "930   士林    臺北市   4.0  2025-04-23 08:00    μg/m3\n",
       "956   陽明    臺北市   6.0  2025-04-23 07:00    μg/m3\n",
       "\n",
       "[85 rows x 5 columns]"
      ]
     },
     "execution_count": 29,
     "metadata": {},
     "output_type": "execute_result"
    }
   ],
   "source": [
    "taipei=df1[df1[\"county\"]==\"臺北市\"]\n",
    "taipei"
   ]
  },
  {
   "cell_type": "code",
   "execution_count": 15,
   "id": "ebff2bad",
   "metadata": {},
   "outputs": [
    {
     "data": {
      "text/plain": [
       "site\n",
       "中山    11.166667\n",
       "古亭     9.500000\n",
       "士林     7.916667\n",
       "大同    15.250000\n",
       "松山    17.333333\n",
       "萬華     8.333333\n",
       "陽明     3.230769\n",
       "Name: pm25, dtype: float64"
      ]
     },
     "execution_count": 15,
     "metadata": {},
     "output_type": "execute_result"
    }
   ],
   "source": [
    "taipei.groupby(\"site\")[\"pm25\"].mean()"
   ]
  },
  {
   "cell_type": "code",
   "execution_count": 16,
   "id": "08ce252b",
   "metadata": {},
   "outputs": [
    {
     "data": {
      "text/plain": [
       "<pymysql.connections.Connection at 0x25cfb2fe980>"
      ]
     },
     "execution_count": 16,
     "metadata": {},
     "output_type": "execute_result"
    }
   ],
   "source": [
    "conn=pymysql.connect(\n",
    "host=\"127.0.0.1\",\n",
    "port=3306,\n",
    "user=\"root\",\n",
    "password=\"12345678\",\n",
    "db=\"demo\"\n",
    ")\n",
    "conn\n"
   ]
  },
  {
   "cell_type": "code",
   "execution_count": 17,
   "id": "9056570a",
   "metadata": {},
   "outputs": [
    {
     "data": {
      "text/plain": [
       "<pymysql.cursors.Cursor at 0x25cfb2ff370>"
      ]
     },
     "execution_count": 17,
     "metadata": {},
     "output_type": "execute_result"
    }
   ],
   "source": [
    "cur=conn.cursor()\n",
    "cur"
   ]
  },
  {
   "cell_type": "code",
   "execution_count": 18,
   "id": "aa8d39b3",
   "metadata": {},
   "outputs": [
    {
     "name": "stdout",
     "output_type": "stream",
     "text": [
      "\n",
      "create table if not exists pm25(\n",
      "id int auto_increment primary key,\n",
      "site varchar(20) not null,\n",
      "county varchar(50) not null,\n",
      "pm25 float not null,\n",
      "datacreationdate datetime not null,\n",
      "itemunit varchar(10),\n",
      "unique key uq_site_datetime (site,datacreationdate)\n",
      ");\n",
      "\n",
      "\n"
     ]
    }
   ],
   "source": [
    "sqlstr='''\n",
    "create table if not exists pm25(\n",
    "id int auto_increment primary key,\n",
    "site varchar(20) not null,\n",
    "county varchar(50) not null,\n",
    "pm25 float not null,\n",
    "datacreationdate datetime not null,\n",
    "itemunit varchar(10),\n",
    "unique key uq_site_datetime (site,datacreationdate)\n",
    ");\n",
    "\n",
    "'''\n",
    "print(sqlstr)"
   ]
  },
  {
   "cell_type": "code",
   "execution_count": 19,
   "id": "136d5cf9",
   "metadata": {},
   "outputs": [
    {
     "data": {
      "text/plain": [
       "0"
      ]
     },
     "execution_count": 19,
     "metadata": {},
     "output_type": "execute_result"
    }
   ],
   "source": [
    "cur.execute(sqlstr)\n"
   ]
  },
  {
   "cell_type": "code",
   "execution_count": 20,
   "id": "fff31e8b",
   "metadata": {},
   "outputs": [],
   "source": [
    "conn.commit()"
   ]
  },
  {
   "cell_type": "code",
   "execution_count": 30,
   "id": "cb02c19b",
   "metadata": {},
   "outputs": [],
   "source": [
    "values=df1.values.tolist()"
   ]
  },
  {
   "cell_type": "code",
   "execution_count": 31,
   "id": "ed6689fa",
   "metadata": {},
   "outputs": [],
   "source": [
    "sqlstr='''\n",
    "insert ignore into pm25(site,county,pm25,datacreationdate,itemunit)\n",
    "values(%s,%s,%s,%s,%s)\n",
    "'''"
   ]
  },
  {
   "cell_type": "code",
   "execution_count": 32,
   "id": "de2eb891",
   "metadata": {},
   "outputs": [],
   "source": [
    "cur.execute(sqlstr,values[0])\n",
    "conn.commit()"
   ]
  },
  {
   "cell_type": "code",
   "execution_count": 33,
   "id": "f352d117",
   "metadata": {},
   "outputs": [],
   "source": [
    "cur.executemany(sqlstr,values)\n",
    "conn.commit()"
   ]
  },
  {
   "cell_type": "code",
   "execution_count": 36,
   "id": "ddf2745e",
   "metadata": {
    "collapsed": true
   },
   "outputs": [
    {
     "data": {
      "text/plain": [
       "(('三義',),\n",
       " ('三重',),\n",
       " ('中壢',),\n",
       " ('中山',),\n",
       " ('二林',),\n",
       " ('仁武',),\n",
       " ('冬山',),\n",
       " ('前金',),\n",
       " ('前鎮',),\n",
       " ('南投',),\n",
       " ('古亭',),\n",
       " ('員林',),\n",
       " ('善化',),\n",
       " ('嘉義',),\n",
       " ('土城',),\n",
       " ('埔里',),\n",
       " ('基隆',),\n",
       " ('士林',),\n",
       " ('大同',),\n",
       " ('大園',),\n",
       " ('大城',),\n",
       " ('大寮',),\n",
       " ('大里',),\n",
       " ('安南',),\n",
       " ('宜蘭',),\n",
       " ('富貴角',),\n",
       " ('小港',),\n",
       " ('屏東',),\n",
       " ('崙背',),\n",
       " ('左營',),\n",
       " ('平鎮',),\n",
       " ('彰化',),\n",
       " ('復興',),\n",
       " ('忠明',),\n",
       " ('恆春',),\n",
       " ('斗六',),\n",
       " ('新店',),\n",
       " ('新港',),\n",
       " ('新營',),\n",
       " ('新竹',),\n",
       " ('新莊',),\n",
       " ('朴子',),\n",
       " ('松山',),\n",
       " ('板橋',),\n",
       " ('林口',),\n",
       " ('林園',),\n",
       " ('桃園',),\n",
       " ('楠梓',),\n",
       " ('橋頭',),\n",
       " ('永和',),\n",
       " ('汐止',),\n",
       " ('沙鹿',),\n",
       " ('淡水',),\n",
       " ('湖口',),\n",
       " ('潮州',),\n",
       " ('竹山',),\n",
       " ('竹東',),\n",
       " ('線西',),\n",
       " ('美濃',),\n",
       " ('臺南',),\n",
       " ('臺東',),\n",
       " ('臺西',),\n",
       " ('花蓮',),\n",
       " ('苗栗',),\n",
       " ('菜寮',),\n",
       " ('萬華',),\n",
       " ('萬里',),\n",
       " ('西屯',),\n",
       " ('觀音',),\n",
       " ('豐原',),\n",
       " ('金門',),\n",
       " ('關山',),\n",
       " ('陽明',),\n",
       " ('頭份',),\n",
       " ('馬公',),\n",
       " ('馬祖',),\n",
       " ('鳳山',),\n",
       " ('麥寮',),\n",
       " ('龍潭',))"
      ]
     },
     "execution_count": 36,
     "metadata": {},
     "output_type": "execute_result"
    }
   ],
   "source": [
    "sqlstr=\"select distinct site from pm25;\"\n",
    "cur.execute(sqlstr)\n",
    "rows=cur.fetchall()\n",
    "rows"
   ]
  },
  {
   "cell_type": "code",
   "execution_count": 35,
   "id": "b222d992",
   "metadata": {
    "collapsed": true
   },
   "outputs": [
    {
     "data": {
      "text/plain": [
       "['三義',\n",
       " '三重',\n",
       " '中壢',\n",
       " '中山',\n",
       " '二林',\n",
       " '仁武',\n",
       " '冬山',\n",
       " '前金',\n",
       " '前鎮',\n",
       " '南投',\n",
       " '古亭',\n",
       " '員林',\n",
       " '善化',\n",
       " '嘉義',\n",
       " '土城',\n",
       " '埔里',\n",
       " '基隆',\n",
       " '士林',\n",
       " '大同',\n",
       " '大園',\n",
       " '大城',\n",
       " '大寮',\n",
       " '大里',\n",
       " '安南',\n",
       " '宜蘭',\n",
       " '富貴角',\n",
       " '小港',\n",
       " '屏東',\n",
       " '崙背',\n",
       " '左營',\n",
       " '平鎮',\n",
       " '彰化',\n",
       " '復興',\n",
       " '忠明',\n",
       " '恆春',\n",
       " '斗六',\n",
       " '新店',\n",
       " '新港',\n",
       " '新營',\n",
       " '新竹',\n",
       " '新莊',\n",
       " '朴子',\n",
       " '松山',\n",
       " '板橋',\n",
       " '林口',\n",
       " '林園',\n",
       " '桃園',\n",
       " '楠梓',\n",
       " '橋頭',\n",
       " '永和',\n",
       " '汐止',\n",
       " '沙鹿',\n",
       " '淡水',\n",
       " '湖口',\n",
       " '潮州',\n",
       " '竹山',\n",
       " '竹東',\n",
       " '線西',\n",
       " '美濃',\n",
       " '臺南',\n",
       " '臺東',\n",
       " '臺西',\n",
       " '花蓮',\n",
       " '苗栗',\n",
       " '菜寮',\n",
       " '萬華',\n",
       " '萬里',\n",
       " '西屯',\n",
       " '觀音',\n",
       " '豐原',\n",
       " '金門',\n",
       " '關山',\n",
       " '陽明',\n",
       " '頭份',\n",
       " '馬公',\n",
       " '馬祖',\n",
       " '鳳山',\n",
       " '麥寮',\n",
       " '龍潭']"
      ]
     },
     "execution_count": 35,
     "metadata": {},
     "output_type": "execute_result"
    }
   ],
   "source": [
    "[row[0] for row in rows]"
   ]
  },
  {
   "cell_type": "code",
   "execution_count": 43,
   "id": "a83a195b",
   "metadata": {
    "collapsed": true
   },
   "outputs": [
    {
     "data": {
      "text/plain": [
       "county\n",
       "連江縣    24.923077\n",
       "金門縣    21.000000\n",
       "彰化縣    16.233333\n",
       "臺中市    15.952381\n",
       "雲林縣    14.607843\n",
       "南投縣    14.333333\n",
       "宜蘭縣    14.230769\n",
       "嘉義縣    14.200000\n",
       "高雄市    14.039474\n",
       "臺南市    13.921569\n",
       "花蓮縣    13.769231\n",
       "新竹市    13.250000\n",
       "屏東縣    13.025641\n",
       "嘉義市    12.923077\n",
       "澎湖縣    12.416667\n",
       "苗栗縣    11.972973\n",
       "臺東縣    11.304348\n",
       "新北市    10.583333\n",
       "新竹縣    10.520000\n",
       "臺北市    10.305882\n",
       "桃園市     9.945946\n",
       "基隆市     7.250000\n",
       "Name: pm25, dtype: float64"
      ]
     },
     "execution_count": 43,
     "metadata": {},
     "output_type": "execute_result"
    }
   ],
   "source": [
    "df1.groupby(\"county\")[\"pm25\"].mean().sort_values(ascending=False)"
   ]
  },
  {
   "cell_type": "code",
   "execution_count": 44,
   "id": "5724b876",
   "metadata": {},
   "outputs": [
    {
     "data": {
      "text/plain": [
       "(('連江縣', 24.92),\n",
       " ('金門縣', 21.0),\n",
       " ('彰化縣', 16.23),\n",
       " ('臺中市', 15.95),\n",
       " ('雲林縣', 14.61),\n",
       " ('南投縣', 14.33),\n",
       " ('宜蘭縣', 14.23),\n",
       " ('嘉義縣', 14.2),\n",
       " ('高雄市', 14.04),\n",
       " ('臺南市', 13.92),\n",
       " ('花蓮縣', 13.77),\n",
       " ('新竹市', 13.25),\n",
       " ('屏東縣', 13.03),\n",
       " ('嘉義市', 12.92),\n",
       " ('澎湖縣', 12.42),\n",
       " ('苗栗縣', 11.97),\n",
       " ('臺東縣', 11.3),\n",
       " ('新北市', 10.58),\n",
       " ('新竹縣', 10.52),\n",
       " ('臺北市', 10.31),\n",
       " ('桃園市', 9.95),\n",
       " ('基隆市', 7.25))"
      ]
     },
     "execution_count": 44,
     "metadata": {},
     "output_type": "execute_result"
    }
   ],
   "source": [
    "sqlstr=\"\"\"select county,round(AVG(pm25),2) as avg_pm25\n",
    "from pm25 group by county order by avg_pm25 desc;\n",
    "\"\"\"\n",
    "cur.execute(sqlstr)\n",
    "cur.fetchall()"
   ]
  },
  {
   "cell_type": "code",
   "execution_count": 50,
   "id": "25926599",
   "metadata": {},
   "outputs": [
    {
     "data": {
      "text/plain": [
       "(('松山', 17.33),\n",
       " ('大同', 15.25),\n",
       " ('中山', 11.17),\n",
       " ('古亭', 9.5),\n",
       " ('萬華', 8.33),\n",
       " ('士林', 7.92),\n",
       " ('陽明', 3.23))"
      ]
     },
     "execution_count": 50,
     "metadata": {},
     "output_type": "execute_result"
    }
   ],
   "source": [
    "sqlstr=\"\"\"\n",
    "select site,round(AVG(pm25),2) as avg_pm25\n",
    "from pm25\n",
    "where county='臺北市'\n",
    "group by site\n",
    "order by avg_pm25 desc;\n",
    "\"\"\"\n",
    "cur.execute(sqlstr)\n",
    "cur.fetchall()"
   ]
  },
  {
   "cell_type": "code",
   "execution_count": 51,
   "id": "467e4b53",
   "metadata": {},
   "outputs": [
    {
     "data": {
      "text/plain": [
       "site\n",
       "松山    17.33\n",
       "大同    15.25\n",
       "中山    11.17\n",
       "古亭     9.50\n",
       "萬華     8.33\n",
       "士林     7.92\n",
       "陽明     3.23\n",
       "Name: pm25, dtype: float64"
      ]
     },
     "execution_count": 51,
     "metadata": {},
     "output_type": "execute_result"
    }
   ],
   "source": [
    "df1[df1[\"county\"]==\"臺北市\"].groupby(\"site\")[\"pm25\"].mean().round(2).sort_values(ascending=False)"
   ]
  },
  {
   "cell_type": "code",
   "execution_count": null,
   "id": "0f4c7c2e",
   "metadata": {},
   "outputs": [],
   "source": []
  }
 ],
 "metadata": {
  "kernelspec": {
   "display_name": "Python 3 (ipykernel)",
   "language": "python",
   "name": "python3"
  },
  "language_info": {
   "codemirror_mode": {
    "name": "ipython",
    "version": 3
   },
   "file_extension": ".py",
   "mimetype": "text/x-python",
   "name": "python",
   "nbconvert_exporter": "python",
   "pygments_lexer": "ipython3",
   "version": "3.10.9"
  }
 },
 "nbformat": 4,
 "nbformat_minor": 5
}
